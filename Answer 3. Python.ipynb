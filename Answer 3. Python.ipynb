{
 "cells": [
  {
   "cell_type": "code",
   "execution_count": null,
   "id": "0f3b729d",
   "metadata": {},
   "outputs": [],
   "source": [
    "import requests\n",
    "import pandas as pd\n",
    "\n",
    "# Step 1: Download the data\n",
    "url = \"https://raw.githubusercontent.com/Biuni/PokemonGO-Pokedex/master/pokedex.json\"\n",
    "response = requests.get(url)\n",
    "data = response.json()\n",
    "\n",
    "# Step 2: Process the data and convert it into a structured format\n",
    "structured_data = []\n",
    "for pokemon in data[\"pokemon\"]:\n",
    "    entry = {\n",
    "        \"id\": pokemon[\"id\"],\n",
    "        \"num\": pokemon[\"num\"],\n",
    "        \"name\": pokemon[\"name\"],\n",
    "        \"img\": pokemon[\"img\"],\n",
    "        \"type\": \", \".join(pokemon[\"type\"]),\n",
    "        \"height\": pokemon[\"height\"],\n",
    "        \"weight\": pokemon[\"weight\"],\n",
    "        \"candy\": pokemon.get(\"candy\", \"\"),\n",
    "        \"candy_count\": pokemon.get(\"candy_count\", 0),\n",
    "        \"egg\": pokemon.get(\"egg\", \"\"),\n",
    "        \"spawn_chance\": pokemon.get(\"spawn_chance\", 0.0),\n",
    "        \"avg_spawns\": pokemon.get(\"avg_spawns\", 0),\n",
    "        \"spawn_time\": pokemon.get(\"spawn_time\", \"\"),\n",
    "        \"weakness\": \", \".join(pokemon.get(\"weaknesses\", []))\n",
    "    }\n",
    "    next_evolution = pokemon.get(\"next_evolution\")\n",
    "    if next_evolution:\n",
    "        entry[\"next_evolution\"] = \", \".join(\n",
    "            [f\"{evolution['num']} - {evolution['name']}\" for evolution in next_evolution]\n",
    "        )\n",
    "    else:\n",
    "        entry[\"next_evolution\"] = \"\"\n",
    "    prev_evolution = pokemon.get(\"prev_evolution\")\n",
    "    if prev_evolution:\n",
    "        entry[\"prev_evolution\"] = \", \".join(\n",
    "            [f\"{evolution['num']} - {evolution['name']}\" for evolution in prev_evolution]\n",
    "        )\n",
    "    else:\n",
    "        entry[\"prev_evolution\"] = \"\"\n",
    "    structured_data.append(entry)\n",
    "\n",
    "# Step 3: Convert the structured data to an Excel file\n",
    "df = pd.DataFrame(structured_data)\n",
    "df.to_excel(\"pokemon_data.xlsx\", index=False)\n"
   ]
  },
  {
   "cell_type": "code",
   "execution_count": null,
   "id": "d0ec043b",
   "metadata": {},
   "outputs": [],
   "source": []
  }
 ],
 "metadata": {
  "kernelspec": {
   "display_name": "Python 3 (ipykernel)",
   "language": "python",
   "name": "python3"
  },
  "language_info": {
   "codemirror_mode": {
    "name": "ipython",
    "version": 3
   },
   "file_extension": ".py",
   "mimetype": "text/x-python",
   "name": "python",
   "nbconvert_exporter": "python",
   "pygments_lexer": "ipython3",
   "version": "3.9.12"
  }
 },
 "nbformat": 4,
 "nbformat_minor": 5
}
