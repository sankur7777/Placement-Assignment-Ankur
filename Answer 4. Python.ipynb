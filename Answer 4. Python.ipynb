{
 "cells": [
  {
   "cell_type": "code",
   "execution_count": 1,
   "id": "55b01842",
   "metadata": {},
   "outputs": [
    {
     "name": "stdout",
     "output_type": "stream",
     "text": [
      "Data has been converted and saved to nasa_data.csv.\n"
     ]
    }
   ],
   "source": [
    "import requests\n",
    "import pandas as pd\n",
    "\n",
    "def download_and_convert_to_csv(url):\n",
    "    # Download the data from the provided link\n",
    "    response = requests.get(url)\n",
    "    \n",
    "    # Check if the download was successful\n",
    "    if response.status_code != 200:\n",
    "        print(\"Failed to download the data.\")\n",
    "        return\n",
    "    \n",
    "    # Create a DataFrame from the data\n",
    "    df = pd.read_json(response.text)\n",
    "    \n",
    "    # Export the DataFrame to a CSV file\n",
    "    csv_file = 'nasa_data.csv'\n",
    "    df.to_csv(csv_file, index=False)\n",
    "    \n",
    "    print(f\"Data has been converted and saved to {csv_file}.\")\n",
    "\n",
    "# Specify the URL of the data\n",
    "url = \"https://data.nasa.gov/resource/y77d-th95.json\"\n",
    "\n",
    "# Call the function to download, convert, and export the data\n",
    "download_and_convert_to_csv(url)\n"
   ]
  },
  {
   "cell_type": "code",
   "execution_count": null,
   "id": "eac7c33f",
   "metadata": {},
   "outputs": [],
   "source": []
  }
 ],
 "metadata": {
  "kernelspec": {
   "display_name": "Python 3 (ipykernel)",
   "language": "python",
   "name": "python3"
  },
  "language_info": {
   "codemirror_mode": {
    "name": "ipython",
    "version": 3
   },
   "file_extension": ".py",
   "mimetype": "text/x-python",
   "name": "python",
   "nbconvert_exporter": "python",
   "pygments_lexer": "ipython3",
   "version": "3.9.12"
  }
 },
 "nbformat": 4,
 "nbformat_minor": 5
}
