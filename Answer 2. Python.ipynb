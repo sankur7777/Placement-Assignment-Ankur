{
 "cells": [
  {
   "cell_type": "code",
   "execution_count": 1,
   "id": "985918ba",
   "metadata": {},
   "outputs": [],
   "source": [
    "def is_valid_string(s):\n",
    "    char_count = {}\n",
    "    \n",
    "    # Count the frequency of each character\n",
    "    for char in s:\n",
    "        char_count[char] = char_count.get(char, 0) + 1\n",
    "    \n",
    "    # Count the frequency of frequencies\n",
    "    freq_count = {}\n",
    "    for count in char_count.values():\n",
    "        freq_count[count] = freq_count.get(count, 0) + 1\n",
    "    \n",
    "    # If there is only one frequency, the string is valid\n",
    "    if len(freq_count) == 1:\n",
    "        return \"YES\"\n",
    "    \n",
    "    # If there are more than two frequencies, the string is not valid\n",
    "    if len(freq_count) > 2:\n",
    "        return \"NO\"\n",
    "    \n",
    "    # If there are two frequencies, check if removing one character can make the string valid\n",
    "    freq_list = list(freq_count.items())\n",
    "    freq1, count1 = freq_list[0]\n",
    "    freq2, count2 = freq_list[1]\n",
    "    \n",
    "    # If either frequency is 1 and occurs only once, removing that character makes the string valid\n",
    "    if (freq1 == 1 and count1 == 1) or (freq2 == 1 and count2 == 1):\n",
    "        return \"YES\"\n",
    "    \n",
    "    # If the difference between the frequencies is 1 and one of the frequencies occurs only once, removing that character makes the string valid\n",
    "    if (freq1 == 1 and count1 == 1 and freq2 - freq1 == 1) or (freq2 == 1 and count2 == 1 and freq1 - freq2 == 1):\n",
    "        return \"YES\"\n",
    "    \n",
    "    return \"NO\"\n"
   ]
  },
  {
   "cell_type": "code",
   "execution_count": 2,
   "id": "a3814c96",
   "metadata": {},
   "outputs": [
    {
     "data": {
      "text/plain": [
       "'YES'"
      ]
     },
     "execution_count": 2,
     "metadata": {},
     "output_type": "execute_result"
    }
   ],
   "source": [
    "is_valid_string(\"abc\")"
   ]
  },
  {
   "cell_type": "code",
   "execution_count": 3,
   "id": "dfd1d550",
   "metadata": {},
   "outputs": [
    {
     "data": {
      "text/plain": [
       "'NO'"
      ]
     },
     "execution_count": 3,
     "metadata": {},
     "output_type": "execute_result"
    }
   ],
   "source": [
    "is_valid_string(\"abcc\")"
   ]
  },
  {
   "cell_type": "code",
   "execution_count": null,
   "id": "9a3f48fa",
   "metadata": {},
   "outputs": [],
   "source": []
  }
 ],
 "metadata": {
  "kernelspec": {
   "display_name": "Python 3 (ipykernel)",
   "language": "python",
   "name": "python3"
  },
  "language_info": {
   "codemirror_mode": {
    "name": "ipython",
    "version": 3
   },
   "file_extension": ".py",
   "mimetype": "text/x-python",
   "name": "python",
   "nbconvert_exporter": "python",
   "pygments_lexer": "ipython3",
   "version": "3.9.12"
  }
 },
 "nbformat": 4,
 "nbformat_minor": 5
}
