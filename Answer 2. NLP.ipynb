{
 "cells": [
  {
   "cell_type": "code",
   "execution_count": null,
   "id": "d62f615a",
   "metadata": {},
   "outputs": [],
   "source": [
    "import PyPDF2\n",
    "import csv\n",
    "from collections import Counter\n",
    "\n",
    "# Open the PDF file\n",
    "pdf_file = \"Day 5.pdf\"\n",
    "pdf = open(pdf_file, \"rb\")\n",
    "\n",
    "# Read the PDF content\n",
    "pdf_reader = PyPDF2.PdfFileReader(pdf)\n",
    "num_pages = pdf_reader.numPages\n",
    "\n",
    "# Extract text from each page\n",
    "text = \"\"\n",
    "for page in range(num_pages):\n",
    "    page_obj = pdf_reader.getPage(page)\n",
    "    text += page_obj.extractText()\n",
    "\n",
    "# Close the PDF file\n",
    "pdf.close()\n",
    "\n",
    "# Remove unnecessary whitespace and newline characters\n",
    "text = text.replace(\"\\n\", \" \")\n",
    "text = \" \".join(text.split())\n",
    "\n",
    "# Store the extracted text in a CSV file\n",
    "csv_file = \"extracted_text.csv\"\n",
    "with open(csv_file, \"w\", encoding=\"utf-8\", newline=\"\") as file:\n",
    "    writer = csv.writer(file)\n",
    "    writer.writerow([\"Extracted Text\"])\n",
    "    writer.writerow([text])\n",
    "\n",
    "# Find the most repeated word\n",
    "words = text.split()\n",
    "word_count = Counter(words)\n",
    "most_common_word = word_count.most_common(1)[0][0]\n",
    "\n",
    "# Print the most repeated word\n",
    "print(\"The most repeated word is:\", most_common_word)\n"
   ]
  },
  {
   "cell_type": "code",
   "execution_count": null,
   "id": "ceb4debe",
   "metadata": {},
   "outputs": [],
   "source": []
  }
 ],
 "metadata": {
  "kernelspec": {
   "display_name": "Python 3 (ipykernel)",
   "language": "python",
   "name": "python3"
  },
  "language_info": {
   "codemirror_mode": {
    "name": "ipython",
    "version": 3
   },
   "file_extension": ".py",
   "mimetype": "text/x-python",
   "name": "python",
   "nbconvert_exporter": "python",
   "pygments_lexer": "ipython3",
   "version": "3.9.12"
  }
 },
 "nbformat": 4,
 "nbformat_minor": 5
}
