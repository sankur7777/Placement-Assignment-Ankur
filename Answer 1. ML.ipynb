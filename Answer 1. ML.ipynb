{
 "cells": [
  {
   "cell_type": "code",
   "execution_count": null,
   "metadata": {
    "execution": {
     "iopub.execute_input": "2023-05-21T18:25:08.209684Z",
     "iopub.status.busy": "2023-05-21T18:25:08.209268Z",
     "iopub.status.idle": "2023-05-21T18:25:08.216184Z",
     "shell.execute_reply": "2023-05-21T18:25:08.214737Z",
     "shell.execute_reply.started": "2023-05-21T18:25:08.209646Z"
    }
   },
   "outputs": [],
   "source": [
    "## Comment\n",
    "## Observation"
   ]
  },
  {
   "cell_type": "code",
   "execution_count": null,
   "metadata": {
    "execution": {
     "iopub.execute_input": "2023-05-21T18:49:05.182162Z",
     "iopub.status.busy": "2023-05-21T18:49:05.181098Z",
     "iopub.status.idle": "2023-05-21T18:49:06.323795Z",
     "shell.execute_reply": "2023-05-21T18:49:06.322697Z",
     "shell.execute_reply.started": "2023-05-21T18:49:05.182118Z"
    }
   },
   "outputs": [],
   "source": [
    "## Import the necessary libraries:-\n",
    "\n",
    "import pandas as pd\n",
    "import numpy as np\n",
    "from sklearn.model_selection import train_test_split\n",
    "from sklearn.linear_model import LinearRegression\n",
    "from sklearn.metrics import mean_squared_error\n",
    "from sklearn.preprocessing import OneHotEncoder\n",
    "import re\n",
    "import matplotlib.pyplot as plt\n",
    "import seaborn as sns\n",
    "import plotly.express as px\n",
    "from wordcloud import WordCloud, STOPWORDS, ImageColorGenerator\n",
    "import warnings\n",
    "warnings.filterwarnings('ignore')\n"
   ]
  },
  {
   "cell_type": "code",
   "execution_count": null,
   "metadata": {
    "execution": {
     "iopub.execute_input": "2023-05-21T18:28:36.407005Z",
     "iopub.status.busy": "2023-05-21T18:28:36.406625Z",
     "iopub.status.idle": "2023-05-21T18:28:36.419354Z",
     "shell.execute_reply": "2023-05-21T18:28:36.41806Z",
     "shell.execute_reply.started": "2023-05-21T18:28:36.406975Z"
    }
   },
   "outputs": [],
   "source": [
    "## Load the dataset using pandas:\n",
    "data = pd.read_csv(\"../input/instagram-reach/instagram_reach.csv\", encoding = 'latin1')\n"
   ]
  },
  {
   "cell_type": "code",
   "execution_count": null,
   "metadata": {
    "execution": {
     "iopub.execute_input": "2023-05-21T18:28:39.048922Z",
     "iopub.status.busy": "2023-05-21T18:28:39.048549Z",
     "iopub.status.idle": "2023-05-21T18:28:39.061859Z",
     "shell.execute_reply": "2023-05-21T18:28:39.060778Z",
     "shell.execute_reply.started": "2023-05-21T18:28:39.048894Z"
    }
   },
   "outputs": [],
   "source": [
    "## Checking top 5 rows\n",
    "data.head()"
   ]
  },
  {
   "cell_type": "code",
   "execution_count": null,
   "metadata": {
    "execution": {
     "iopub.execute_input": "2023-05-21T18:28:57.942236Z",
     "iopub.status.busy": "2023-05-21T18:28:57.941151Z",
     "iopub.status.idle": "2023-05-21T18:28:57.949057Z",
     "shell.execute_reply": "2023-05-21T18:28:57.947894Z",
     "shell.execute_reply.started": "2023-05-21T18:28:57.942193Z"
    }
   },
   "outputs": [],
   "source": [
    "## Checking Rows & Columns Availabale in Dataset\n",
    "data.shape"
   ]
  },
  {
   "cell_type": "code",
   "execution_count": null,
   "metadata": {
    "execution": {
     "iopub.execute_input": "2023-05-21T18:29:24.556344Z",
     "iopub.status.busy": "2023-05-21T18:29:24.555915Z",
     "iopub.status.idle": "2023-05-21T18:29:24.583775Z",
     "shell.execute_reply": "2023-05-21T18:29:24.582606Z",
     "shell.execute_reply.started": "2023-05-21T18:29:24.556297Z"
    }
   },
   "outputs": [],
   "source": [
    "## Checking Details Information related with Dataset\n",
    "data.info()"
   ]
  },
  {
   "cell_type": "code",
   "execution_count": null,
   "metadata": {
    "execution": {
     "iopub.execute_input": "2023-05-21T18:30:06.533525Z",
     "iopub.status.busy": "2023-05-21T18:30:06.533109Z",
     "iopub.status.idle": "2023-05-21T18:30:06.543039Z",
     "shell.execute_reply": "2023-05-21T18:30:06.542098Z",
     "shell.execute_reply.started": "2023-05-21T18:30:06.533492Z"
    }
   },
   "outputs": [],
   "source": [
    "## Checking Null Values\n",
    "data.isnull().sum()"
   ]
  },
  {
   "cell_type": "code",
   "execution_count": null,
   "metadata": {
    "execution": {
     "iopub.execute_input": "2023-05-21T18:30:47.398495Z",
     "iopub.status.busy": "2023-05-21T18:30:47.398098Z",
     "iopub.status.idle": "2023-05-21T18:30:47.409575Z",
     "shell.execute_reply": "2023-05-21T18:30:47.408394Z",
     "shell.execute_reply.started": "2023-05-21T18:30:47.398464Z"
    }
   },
   "outputs": [],
   "source": [
    "## Droping Null Value\n",
    "data = data.dropna()"
   ]
  },
  {
   "cell_type": "code",
   "execution_count": null,
   "metadata": {
    "execution": {
     "iopub.execute_input": "2023-05-21T18:31:29.256941Z",
     "iopub.status.busy": "2023-05-21T18:31:29.256555Z",
     "iopub.status.idle": "2023-05-21T18:31:29.267094Z",
     "shell.execute_reply": "2023-05-21T18:31:29.265976Z",
     "shell.execute_reply.started": "2023-05-21T18:31:29.256913Z"
    }
   },
   "outputs": [],
   "source": [
    "## Checking Again Null Values whether Null Value Drop or Not\n",
    "data.isnull().sum()"
   ]
  },
  {
   "cell_type": "code",
   "execution_count": null,
   "metadata": {
    "execution": {
     "iopub.execute_input": "2023-05-21T18:31:48.950146Z",
     "iopub.status.busy": "2023-05-21T18:31:48.949734Z",
     "iopub.status.idle": "2023-05-21T18:31:48.957219Z",
     "shell.execute_reply": "2023-05-21T18:31:48.956171Z",
     "shell.execute_reply.started": "2023-05-21T18:31:48.950112Z"
    }
   },
   "outputs": [],
   "source": [
    "## Checking All Columns name present in dataset\n",
    "data.columns"
   ]
  },
  {
   "cell_type": "code",
   "execution_count": null,
   "metadata": {
    "execution": {
     "iopub.execute_input": "2023-05-21T18:33:15.011122Z",
     "iopub.status.busy": "2023-05-21T18:33:15.010277Z",
     "iopub.status.idle": "2023-05-21T18:33:15.024285Z",
     "shell.execute_reply": "2023-05-21T18:33:15.02302Z",
     "shell.execute_reply.started": "2023-05-21T18:33:15.011082Z"
    }
   },
   "outputs": [],
   "source": [
    "## checking top 2 rows of dataset\n",
    "data.head(2)"
   ]
  },
  {
   "cell_type": "code",
   "execution_count": null,
   "metadata": {
    "execution": {
     "iopub.execute_input": "2023-05-21T18:33:36.676587Z",
     "iopub.status.busy": "2023-05-21T18:33:36.676155Z",
     "iopub.status.idle": "2023-05-21T18:33:36.682703Z",
     "shell.execute_reply": "2023-05-21T18:33:36.681412Z",
     "shell.execute_reply.started": "2023-05-21T18:33:36.676554Z"
    }
   },
   "outputs": [],
   "source": [
    "# Remove unnecessary columns\n",
    "data= data.drop(['Unnamed: 0', 'S.No'], axis=1)"
   ]
  },
  {
   "cell_type": "code",
   "execution_count": null,
   "metadata": {
    "execution": {
     "iopub.execute_input": "2023-05-21T18:34:00.255465Z",
     "iopub.status.busy": "2023-05-21T18:34:00.255089Z",
     "iopub.status.idle": "2023-05-21T18:34:00.262008Z",
     "shell.execute_reply": "2023-05-21T18:34:00.260859Z",
     "shell.execute_reply.started": "2023-05-21T18:34:00.255438Z"
    }
   },
   "outputs": [],
   "source": [
    "## Checking All Columns name present in Dataset \n",
    "data.columns"
   ]
  },
  {
   "cell_type": "code",
   "execution_count": null,
   "metadata": {
    "execution": {
     "iopub.execute_input": "2023-05-21T18:34:50.259655Z",
     "iopub.status.busy": "2023-05-21T18:34:50.259236Z",
     "iopub.status.idle": "2023-05-21T18:34:50.270852Z",
     "shell.execute_reply": "2023-05-21T18:34:50.270011Z",
     "shell.execute_reply.started": "2023-05-21T18:34:50.259622Z"
    }
   },
   "outputs": [],
   "source": [
    "## Checking top 3 rows of dataset After droping unnecessary columns\n",
    "data.head(3)"
   ]
  },
  {
   "cell_type": "markdown",
   "metadata": {},
   "source": [
    "## Doing EDA and Analyzing Instagram Reach"
   ]
  },
  {
   "cell_type": "code",
   "execution_count": null,
   "metadata": {
    "execution": {
     "iopub.execute_input": "2023-05-21T18:49:13.933675Z",
     "iopub.status.busy": "2023-05-21T18:49:13.932609Z",
     "iopub.status.idle": "2023-05-21T18:49:14.276287Z",
     "shell.execute_reply": "2023-05-21T18:49:14.27528Z",
     "shell.execute_reply.started": "2023-05-21T18:49:13.933618Z"
    }
   },
   "outputs": [],
   "source": [
    "## Distribution of Impressions From Followers\n",
    "\n",
    "plt.figure(figsize=(10, 8))\n",
    "plt.style.use('fivethirtyeight')\n",
    "plt.title(\"Distribution of Impressions From Followers\")\n",
    "sns.distplot(data['Followers'])\n",
    "plt.show()\n"
   ]
  },
  {
   "cell_type": "code",
   "execution_count": null,
   "metadata": {
    "execution": {
     "iopub.execute_input": "2023-05-21T18:49:39.297308Z",
     "iopub.status.busy": "2023-05-21T18:49:39.296215Z",
     "iopub.status.idle": "2023-05-21T18:49:39.615379Z",
     "shell.execute_reply": "2023-05-21T18:49:39.614298Z",
     "shell.execute_reply.started": "2023-05-21T18:49:39.297267Z"
    }
   },
   "outputs": [],
   "source": [
    "## Distribution of Impressions From Likes\n",
    "\n",
    "plt.figure(figsize=(10, 8))\n",
    "plt.title(\"Distribution of Impressions From Likes\")\n",
    "sns.distplot(data['Likes'])\n",
    "plt.show()\n"
   ]
  },
  {
   "cell_type": "code",
   "execution_count": null,
   "metadata": {
    "execution": {
     "iopub.execute_input": "2023-05-21T18:50:03.590852Z",
     "iopub.status.busy": "2023-05-21T18:50:03.59045Z",
     "iopub.status.idle": "2023-05-21T18:50:05.148969Z",
     "shell.execute_reply": "2023-05-21T18:50:05.147797Z",
     "shell.execute_reply.started": "2023-05-21T18:50:03.590824Z"
    }
   },
   "outputs": [],
   "source": [
    "## Relation between Likes and Followers\n",
    "\n",
    "followers = data[\"Followers\"].sum()\n",
    "likes = data[\"Likes\"].sum()\n",
    "\n",
    "labels = ['Followers', 'Likes']\n",
    "values = [followers, likes]\n",
    "\n",
    "fig = px.pie(data, values=values, names=labels, \n",
    "             title='Impressions on Instagram Posts From Various Sources', hole=0.5)\n",
    "fig.show()\n"
   ]
  },
  {
   "cell_type": "code",
   "execution_count": null,
   "metadata": {
    "execution": {
     "iopub.execute_input": "2023-05-21T18:50:26.785225Z",
     "iopub.status.busy": "2023-05-21T18:50:26.784802Z",
     "iopub.status.idle": "2023-05-21T18:50:27.205938Z",
     "shell.execute_reply": "2023-05-21T18:50:27.20514Z",
     "shell.execute_reply.started": "2023-05-21T18:50:26.785182Z"
    }
   },
   "outputs": [],
   "source": [
    "## Plotting Word-Cloud for Hashtag Related Data\n",
    "\n",
    "text = \" \".join(i for i in data.Hashtags)\n",
    "stopwords = set(STOPWORDS)\n",
    "wordcloud = WordCloud(stopwords=stopwords, background_color=\"white\").generate(text)\n",
    "plt.style.use('classic')\n",
    "plt.figure( figsize=(12,10))\n",
    "plt.imshow(wordcloud, interpolation='bilinear')\n",
    "plt.axis(\"off\")\n",
    "plt.show()"
   ]
  },
  {
   "cell_type": "code",
   "execution_count": null,
   "metadata": {
    "execution": {
     "iopub.execute_input": "2023-05-21T18:50:45.781193Z",
     "iopub.status.busy": "2023-05-21T18:50:45.780761Z",
     "iopub.status.idle": "2023-05-21T18:50:47.662933Z",
     "shell.execute_reply": "2023-05-21T18:50:47.662061Z",
     "shell.execute_reply.started": "2023-05-21T18:50:45.78116Z"
    }
   },
   "outputs": [],
   "source": [
    "## Plotting Scatter-plot for showing Relationship Between Likes and Followers \n",
    "\n",
    "figure = px.scatter(data_frame = data, x=\"Likes\",\n",
    "                    y=\"Followers\", trendline=\"ols\", \n",
    "                    title = \"Relationship Between Likes and Followers\")\n",
    "figure.show()"
   ]
  },
  {
   "cell_type": "code",
   "execution_count": null,
   "metadata": {
    "execution": {
     "iopub.execute_input": "2023-05-21T18:35:49.405696Z",
     "iopub.status.busy": "2023-05-21T18:35:49.405286Z",
     "iopub.status.idle": "2023-05-21T18:35:49.411248Z",
     "shell.execute_reply": "2023-05-21T18:35:49.410144Z",
     "shell.execute_reply.started": "2023-05-21T18:35:49.405667Z"
    }
   },
   "outputs": [],
   "source": [
    "# Select the relevant features and target variables\n",
    "\n",
    "features = ['USERNAME', 'Caption', 'Hashtags', 'Followers']\n",
    "target_likes = 'Likes'\n",
    "target_time_since_posted = 'Time since posted'\n"
   ]
  },
  {
   "cell_type": "code",
   "execution_count": null,
   "metadata": {
    "execution": {
     "iopub.execute_input": "2023-05-21T18:53:15.363668Z",
     "iopub.status.busy": "2023-05-21T18:53:15.363245Z",
     "iopub.status.idle": "2023-05-21T18:53:15.373852Z",
     "shell.execute_reply": "2023-05-21T18:53:15.372393Z",
     "shell.execute_reply.started": "2023-05-21T18:53:15.363636Z"
    }
   },
   "outputs": [],
   "source": [
    "# Split the data into training and testing sets\n",
    "\n",
    "X = data[features]\n",
    "y_likes = data[target_likes]\n",
    "y_time_since_posted = data[target_time_since_posted]\n",
    "X_train, X_test, y_likes_train, y_likes_test, y_time_since_posted_train, y_time_since_posted_test = train_test_split(X, y_likes, y_time_since_posted, test_size=0.2, random_state=42)\n"
   ]
  },
  {
   "cell_type": "code",
   "execution_count": null,
   "metadata": {
    "execution": {
     "iopub.execute_input": "2023-05-21T18:53:20.345216Z",
     "iopub.status.busy": "2023-05-21T18:53:20.34482Z",
     "iopub.status.idle": "2023-05-21T18:53:20.359767Z",
     "shell.execute_reply": "2023-05-21T18:53:20.358552Z",
     "shell.execute_reply.started": "2023-05-21T18:53:20.345186Z"
    }
   },
   "outputs": [],
   "source": [
    "# Preprocess the text features using one-hot encoding\n",
    "encoder = OneHotEncoder(sparse=False, handle_unknown='ignore')\n",
    "X_train_encoded = encoder.fit_transform(X_train)\n",
    "X_test_encoded = encoder.transform(X_test)\n"
   ]
  },
  {
   "cell_type": "markdown",
   "metadata": {},
   "source": [
    "## Train a model to predict the number of likes:"
   ]
  },
  {
   "cell_type": "code",
   "execution_count": null,
   "metadata": {
    "execution": {
     "iopub.execute_input": "2023-05-21T18:54:21.892848Z",
     "iopub.status.busy": "2023-05-21T18:54:21.892443Z",
     "iopub.status.idle": "2023-05-21T18:54:21.918765Z",
     "shell.execute_reply": "2023-05-21T18:54:21.917553Z",
     "shell.execute_reply.started": "2023-05-21T18:54:21.892815Z"
    }
   },
   "outputs": [],
   "source": [
    "# Train a model to predict the number of likes\n",
    "likes_model = LinearRegression()\n",
    "likes_model.fit(X_train_encoded, y_likes_train)\n",
    "likes_predictions = likes_model.predict(X_test_encoded)\n",
    "likes_mse = mean_squared_error(y_likes_test, likes_predictions)\n",
    "print(\"Mean Squared Error (Likes):\", likes_mse)"
   ]
  },
  {
   "cell_type": "markdown",
   "metadata": {},
   "source": [
    "## Train a model to predict the time since posted"
   ]
  },
  {
   "cell_type": "code",
   "execution_count": null,
   "metadata": {
    "execution": {
     "iopub.execute_input": "2023-05-21T18:55:18.964755Z",
     "iopub.status.busy": "2023-05-21T18:55:18.964349Z",
     "iopub.status.idle": "2023-05-21T18:55:18.969486Z",
     "shell.execute_reply": "2023-05-21T18:55:18.968615Z",
     "shell.execute_reply.started": "2023-05-21T18:55:18.964725Z"
    }
   },
   "outputs": [],
   "source": [
    "# Preprocess the time since posted variable\n",
    "def extract_numerical_value(time_string):\n",
    "    numerical_value = re.findall(r'\\d+', time_string)[0]\n",
    "    return int(numerical_value)"
   ]
  },
  {
   "cell_type": "code",
   "execution_count": null,
   "metadata": {
    "execution": {
     "iopub.execute_input": "2023-05-21T18:55:31.399252Z",
     "iopub.status.busy": "2023-05-21T18:55:31.398861Z",
     "iopub.status.idle": "2023-05-21T18:55:31.405149Z",
     "shell.execute_reply": "2023-05-21T18:55:31.403972Z",
     "shell.execute_reply.started": "2023-05-21T18:55:31.399224Z"
    }
   },
   "outputs": [],
   "source": [
    "y_time_since_posted_train = y_time_since_posted_train.apply(extract_numerical_value)\n",
    "y_time_since_posted_test = y_time_since_posted_test.apply(extract_numerical_value)\n"
   ]
  },
  {
   "cell_type": "code",
   "execution_count": null,
   "metadata": {
    "execution": {
     "iopub.execute_input": "2023-05-21T18:55:46.353746Z",
     "iopub.status.busy": "2023-05-21T18:55:46.353386Z",
     "iopub.status.idle": "2023-05-21T18:55:46.372132Z",
     "shell.execute_reply": "2023-05-21T18:55:46.370822Z",
     "shell.execute_reply.started": "2023-05-21T18:55:46.353719Z"
    }
   },
   "outputs": [],
   "source": [
    "# Train a model to predict the time since posted\n",
    "time_since_posted_model = LinearRegression()\n",
    "time_since_posted_model.fit(X_train_encoded, y_time_since_posted_train)\n",
    "time_since_posted_predictions = time_since_posted_model.predict(X_test_encoded)\n",
    "time_since_posted_mse = mean_squared_error(y_time_since_posted_test, time_since_posted_predictions)\n",
    "print(\"Mean Squared Error (Time Since Posted):\", time_since_posted_mse)"
   ]
  },
  {
   "cell_type": "markdown",
   "metadata": {},
   "source": []
  }
 ],
 "metadata": {
  "kernelspec": {
   "display_name": "Python 3 (ipykernel)",
   "language": "python",
   "name": "python3"
  },
  "language_info": {
   "codemirror_mode": {
    "name": "ipython",
    "version": 3
   },
   "file_extension": ".py",
   "mimetype": "text/x-python",
   "name": "python",
   "nbconvert_exporter": "python",
   "pygments_lexer": "ipython3",
   "version": "3.9.12"
  }
 },
 "nbformat": 4,
 "nbformat_minor": 4
}
