{
 "cells": [
  {
   "cell_type": "code",
   "execution_count": 2,
   "id": "def1e5a0",
   "metadata": {},
   "outputs": [],
   "source": [
    "def find_highest_frequency_word_length(string):\n",
    "    word_count = {}\n",
    "    \n",
    "    # Split the string into words\n",
    "    words = string.split()\n",
    "    \n",
    "    # Count the frequency of each word\n",
    "    for word in words:\n",
    "        word_count[word] = word_count.get(word, 0) + 1\n",
    "    \n",
    "    # Find the word(s) with the highest frequency\n",
    "    max_frequency = max(word_count.values())\n",
    "    highest_frequency_words = [word for word, count in word_count.items() if count == max_frequency]\n",
    "    \n",
    "    # Find the length of the highest-frequency word\n",
    "    highest_frequency_word_length = len(highest_frequency_words[0])\n",
    "    \n",
    "    return highest_frequency_word_length\n"
   ]
  },
  {
   "cell_type": "code",
   "execution_count": 3,
   "id": "929a38a6",
   "metadata": {},
   "outputs": [
    {
     "data": {
      "text/plain": [
       "5"
      ]
     },
     "execution_count": 3,
     "metadata": {},
     "output_type": "execute_result"
    }
   ],
   "source": [
    "find_highest_frequency_word_length(\"write write write all the number from from from 1 to 100\")"
   ]
  },
  {
   "cell_type": "code",
   "execution_count": null,
   "id": "338b014c",
   "metadata": {},
   "outputs": [],
   "source": []
  }
 ],
 "metadata": {
  "kernelspec": {
   "display_name": "Python 3 (ipykernel)",
   "language": "python",
   "name": "python3"
  },
  "language_info": {
   "codemirror_mode": {
    "name": "ipython",
    "version": 3
   },
   "file_extension": ".py",
   "mimetype": "text/x-python",
   "name": "python",
   "nbconvert_exporter": "python",
   "pygments_lexer": "ipython3",
   "version": "3.9.12"
  }
 },
 "nbformat": 4,
 "nbformat_minor": 5
}
